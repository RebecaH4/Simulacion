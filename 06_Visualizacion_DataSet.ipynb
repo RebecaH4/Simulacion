{
 "cells": [
  {
   "cell_type": "markdown",
   "metadata": {},
   "source": [
    "# Visualizacion del DataSet\n",
    "En este Notebook se muestran algunos mecanismos mas utilizados para la visualizacion del DataSet. (Power BI, Looker Studio)\n",
    "\n",
    "## DataSet\n",
    "\n",
    "### Descripcion \n",
    "\n"
   ]
  }
 ],
 "metadata": {
  "kernelspec": {
   "display_name": "Python 3",
   "language": "python",
   "name": "python3"
  },
  "language_info": {
   "name": "python",
   "version": "3.13.7"
  }
 },
 "nbformat": 4,
 "nbformat_minor": 2
}
